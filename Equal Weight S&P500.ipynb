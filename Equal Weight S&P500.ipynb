{
 "cells": [
  {
   "cell_type": "markdown",
   "id": "e1d03201-66cb-4b65-9654-cf023816a945",
   "metadata": {},
   "source": [
    "## Equal-Weight S&P 500 Index Fund\n",
    "### Introduction & Library Imports\n",
    "The S&P 500 is the world's most popular stock market index. The largest fund that is benchmarked to this index is the SPDR® S&P 500® ETF Trust. It has more than US$250 billion of assets under management.\n",
    "\n",
    "The goal of this section of the course is to create a Python script that will accept the value of your protfolio and tell you how many shares of each S&P 500 constituent you should purchase to get an equal-weight version of the index fund.\n",
    "\n",
    "### Library Imports\n",
    "The first thing we need to do is import the open-source softwares libraries that we'll be using in this project."
   ]
  },
  {
   "cell_type": "code",
   "execution_count": 2,
   "id": "946f0f84-3df2-41da-b242-f10549f3a269",
   "metadata": {},
   "outputs": [
    {
     "name": "stdout",
     "output_type": "stream",
     "text": [
      "Collecting xlsxwriterNote: you may need to restart the kernel to use updated packages.\n",
      "\n",
      "  Downloading xlsxwriter-3.2.9-py3-none-any.whl.metadata (2.7 kB)\n",
      "Downloading xlsxwriter-3.2.9-py3-none-any.whl (175 kB)\n",
      "Installing collected packages: xlsxwriter\n",
      "Successfully installed xlsxwriter-3.2.9\n"
     ]
    },
    {
     "name": "stderr",
     "output_type": "stream",
     "text": [
      "\n",
      "[notice] A new release of pip is available: 25.1.1 -> 25.2\n",
      "[notice] To update, run: python.exe -m pip install --upgrade pip\n"
     ]
    }
   ],
   "source": [
    "pip install xlsxwriter"
   ]
  },
  {
   "cell_type": "code",
   "execution_count": 5,
   "id": "f233a254-f4cd-436b-b414-6bbbd689298a",
   "metadata": {},
   "outputs": [],
   "source": [
    "import numpy as np\n",
    "import pandas as pd\n",
    "import requests\n",
    "import xlsxwriter\n",
    "import math"
   ]
  },
  {
   "cell_type": "markdown",
   "id": "09b631c6-ae6a-4fed-a433-92c56c77a1b5",
   "metadata": {},
   "source": [
    "### Importing Our List of Stocks\n",
    "The next thing we need to do is import the constituents of the S&P 500.\n",
    "\n",
    "These constituents change over time, so in an ideal world you would connect directly to the index provider (Standard & Poor's) and pull their real-time constituents on a regular basis."
   ]
  },
  {
   "cell_type": "code",
   "execution_count": null,
   "id": "fac94e4f-4f70-4efe-80d9-73097060eb70",
   "metadata": {},
   "outputs": [],
   "source": []
  },
  {
   "cell_type": "markdown",
   "id": "24789191-7378-4eff-b83e-63aa6e0c7b3d",
   "metadata": {},
   "source": [
    "### Acquiring an API Token\n",
    "Now it's time to import our IEX Cloud API token. This is the data provider that we will be using throughout this project."
   ]
  },
  {
   "cell_type": "code",
   "execution_count": null,
   "id": "0880d5d1-3e21-4335-b56b-93d70b2b9e2f",
   "metadata": {},
   "outputs": [],
   "source": []
  },
  {
   "cell_type": "markdown",
   "id": "5a13b03c-9550-4293-ba69-a55fbd14a94a",
   "metadata": {},
   "source": [
    "### Making Our First API Call\n",
    "Now it's time to structure our API calls to IEX cloud.\n",
    "\n",
    "We need the following information from the API:\n",
    "\n",
    "- Market capitalization for each stock\n",
    "- Price of each stock"
   ]
  },
  {
   "cell_type": "code",
   "execution_count": null,
   "id": "c5a40b6e-b9c6-4bb2-a2c7-b38a1b06de65",
   "metadata": {},
   "outputs": [],
   "source": []
  },
  {
   "cell_type": "markdown",
   "id": "e79b8587-74fd-40f3-a316-8480c161cb94",
   "metadata": {},
   "source": [
    "### Parsing Our API Call\n",
    "The API call that we executed in the last code block contains all of the information required to build our equal-weight S&P 500 strategy.\n",
    "\n",
    "With that said, the data isn't in a proper format yet. We need to parse it first."
   ]
  },
  {
   "cell_type": "code",
   "execution_count": null,
   "id": "1cc706b0-cb09-40a6-a3d0-6ef7bf2fd237",
   "metadata": {},
   "outputs": [],
   "source": []
  },
  {
   "cell_type": "markdown",
   "id": "c76b0562-c4b1-42f9-994f-75088a7daa83",
   "metadata": {},
   "source": [
    "### Adding Our Stocks Data to a Pandas DataFrame\n",
    "The next thing we need to do is add our stock's price and market capitalization to a pandas DataFrame."
   ]
  },
  {
   "cell_type": "code",
   "execution_count": null,
   "id": "e9b599f1-de39-4e0e-b5d7-f4ceff768dc8",
   "metadata": {},
   "outputs": [],
   "source": []
  },
  {
   "cell_type": "code",
   "execution_count": null,
   "id": "a79b0eef-ba25-4a83-b5b5-7b09c2cfb5e5",
   "metadata": {},
   "outputs": [],
   "source": []
  },
  {
   "cell_type": "markdown",
   "id": "e3386c36-6721-47f5-8a4d-93dc0a70d273",
   "metadata": {},
   "source": [
    "### Looping Through The Tickers in Our List of Stocks\n",
    "Using the same logic that we outlined above, we can pull data for all S&P 500 stocks and store their data in the DataFrame using a for loop."
   ]
  },
  {
   "cell_type": "code",
   "execution_count": null,
   "id": "c7d4482a-2757-4e56-a0ed-80c0a7ea482e",
   "metadata": {},
   "outputs": [],
   "source": []
  },
  {
   "cell_type": "code",
   "execution_count": null,
   "id": "ddc9564d-4701-464c-9e71-72ec1d52d568",
   "metadata": {},
   "outputs": [],
   "source": []
  },
  {
   "cell_type": "markdown",
   "id": "7a27090c-49e9-4a24-9bc3-eb4f0dd03157",
   "metadata": {},
   "source": [
    "### Using Batch API Calls to Improve Performance\n",
    "Batch API calls are one of the easiest ways to improve the performance of the code.\n",
    "\n",
    "This is because HTTP requests are typically one of the slowest components of a scripts.\n",
    "\n",
    "Also, API providers will often gives discontinued rates for using batch API calls since they are easier for the API provider to respond to.\n",
    "\n",
    "IEX Cloud limits their batch API calls to 100 tickers per request. Still, this reduces the number of API calls we'll make in this section from 500 to 5 - huge improvement! In this section, we'll split our list of stocks into groups of 100 and then make a batch API call for each group."
   ]
  },
  {
   "cell_type": "code",
   "execution_count": null,
   "id": "51621c28-d638-42d1-87e8-7b4c03e1d05e",
   "metadata": {},
   "outputs": [],
   "source": []
  },
  {
   "cell_type": "code",
   "execution_count": null,
   "id": "40f912d5-d976-43ed-838d-41a19ac841af",
   "metadata": {},
   "outputs": [],
   "source": []
  },
  {
   "cell_type": "markdown",
   "id": "f615a970-9002-45e8-9367-eec5f7c9ab8d",
   "metadata": {},
   "source": [
    "### Calculate the Number of Shares to Buy\n",
    "As you can see in the DataFrame above, we still haven't calculated the number of shares each stock to buy.\n",
    "\n",
    "We'll do that next."
   ]
  },
  {
   "cell_type": "code",
   "execution_count": null,
   "id": "a3b9f0af-f2f2-4e8e-ae5b-d1bb1bbb8884",
   "metadata": {},
   "outputs": [],
   "source": []
  },
  {
   "cell_type": "code",
   "execution_count": null,
   "id": "80ef00b9-e76f-47ab-8465-f5417c1aed83",
   "metadata": {},
   "outputs": [],
   "source": []
  },
  {
   "cell_type": "markdown",
   "id": "5c1e7051-30fc-4453-883d-d37aa4140535",
   "metadata": {},
   "source": [
    "### Formatting Our Excel Output\n",
    "We will be using the XlsxWriter library for Python to create nicely-formatted Excel files.\n",
    "\n",
    "XlsxWriter is an excellent package and offers tons of customization. However, the tradeoff for this is that the library can seen very complicated to new users. Accordingly, this section will be fairly long because I want to do a good job of explaining how XlsxWriter works.\n",
    "#### Initializing our XlsxWriter Object"
   ]
  },
  {
   "cell_type": "code",
   "execution_count": null,
   "id": "cc46ee52-42d9-48db-bbac-ac368535fa54",
   "metadata": {},
   "outputs": [],
   "source": []
  },
  {
   "cell_type": "markdown",
   "id": "94f6e0b7-bfdf-47c4-b8c7-ba2b909ccbf2",
   "metadata": {},
   "source": [
    "#### Creating the Formats We'll Need For Our .xlsx File\n",
    "Formats include colors, fonts, and also symbols like % and $. We'll need four main formats for our Excel document:\n",
    "\n",
    "- String format for tickers\n",
    "- \\$XX.XX format for stock prices\n",
    "- $XX,XXX format for market capitalization\n",
    "- Integer format for the number of shares to purchase"
   ]
  },
  {
   "cell_type": "code",
   "execution_count": null,
   "id": "22bc565f-903a-4e35-bdd4-a35c3c179c8f",
   "metadata": {},
   "outputs": [],
   "source": []
  },
  {
   "cell_type": "markdown",
   "id": "0a3691db-e874-43f9-9db2-dc5ed6fa766d",
   "metadata": {},
   "source": [
    "### Applying the Formats to the Columns of Our .xlsx File\n",
    "We can use the set_column method applied to the writer.sheets['Recommended Trades'] object to apply formats to specific columns of our spreadsheets."
   ]
  },
  {
   "cell_type": "code",
   "execution_count": null,
   "id": "f41ae138-e3eb-4cd5-833c-0c246ebcae9b",
   "metadata": {},
   "outputs": [],
   "source": []
  },
  {
   "cell_type": "markdown",
   "id": "c1c270b7-fda9-47e5-9cfd-1cb99ad66319",
   "metadata": {},
   "source": [
    "### Saving Our Excel Output\n",
    "Saving our Excel file is very easy:"
   ]
  },
  {
   "cell_type": "code",
   "execution_count": null,
   "id": "a87724ec-808d-424c-9529-5f55db0a0ed5",
   "metadata": {},
   "outputs": [],
   "source": []
  }
 ],
 "metadata": {
  "kernelspec": {
   "display_name": "Python 3 (ipykernel)",
   "language": "python",
   "name": "python3"
  },
  "language_info": {
   "codemirror_mode": {
    "name": "ipython",
    "version": 3
   },
   "file_extension": ".py",
   "mimetype": "text/x-python",
   "name": "python",
   "nbconvert_exporter": "python",
   "pygments_lexer": "ipython3",
   "version": "3.12.7"
  }
 },
 "nbformat": 4,
 "nbformat_minor": 5
}
